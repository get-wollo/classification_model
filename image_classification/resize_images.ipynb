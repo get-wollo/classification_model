{
 "cells": [
  {
   "cell_type": "code",
   "execution_count": 20,
   "metadata": {},
   "outputs": [],
   "source": [
    "import torch\n",
    "import pandas as pd \n",
    "import matplotlib.pyplot as plt \n",
    "import numpy as np\n",
    "import seaborn as sns\n",
    "from torchvision import datasets, models, transforms\n",
    "import torch.nn as nn\n",
    "from torch.nn import functional as F\n",
    "import torch.optim as optim\n",
    "import cv2\n",
    "from torchvision import transforms\n",
    "from torchvision.transforms import Normalize, Resize, ToTensor\n",
    "import json\n",
    "\n",
    "\n",
    "\n",
    "\n"
   ]
  },
  {
   "cell_type": "code",
   "execution_count": 21,
   "metadata": {},
   "outputs": [],
   "source": [
    "images = torch.load('all_images.pt')\n",
    "title_vectors = pd.read_csv('title_vectors_imgs_cleaned.csv')\n",
    "dropped_indexes = []"
   ]
  },
  {
   "cell_type": "code",
   "execution_count": 22,
   "metadata": {},
   "outputs": [],
   "source": [
    "title_vectors = title_vectors[['price','main_cat','IntLabel','title_stopwords']]"
   ]
  },
  {
   "cell_type": "code",
   "execution_count": 23,
   "metadata": {},
   "outputs": [
    {
     "data": {
      "text/html": [
       "<div>\n",
       "<style scoped>\n",
       "    .dataframe tbody tr th:only-of-type {\n",
       "        vertical-align: middle;\n",
       "    }\n",
       "\n",
       "    .dataframe tbody tr th {\n",
       "        vertical-align: top;\n",
       "    }\n",
       "\n",
       "    .dataframe thead th {\n",
       "        text-align: right;\n",
       "    }\n",
       "</style>\n",
       "<table border=\"1\" class=\"dataframe\">\n",
       "  <thead>\n",
       "    <tr style=\"text-align: right;\">\n",
       "      <th></th>\n",
       "      <th>price</th>\n",
       "      <th>main_cat</th>\n",
       "      <th>IntLabel</th>\n",
       "      <th>title_stopwords</th>\n",
       "    </tr>\n",
       "  </thead>\n",
       "  <tbody>\n",
       "    <tr>\n",
       "      <th>0</th>\n",
       "      <td>42.80</td>\n",
       "      <td>Video_Games</td>\n",
       "      <td>19</td>\n",
       "      <td>dreamgear grx universal wired headset amplifie...</td>\n",
       "    </tr>\n",
       "    <tr>\n",
       "      <th>1</th>\n",
       "      <td>4.29</td>\n",
       "      <td>Video_Games</td>\n",
       "      <td>19</td>\n",
       "      <td>jimmy johnsons vr football</td>\n",
       "    </tr>\n",
       "    <tr>\n",
       "      <th>2</th>\n",
       "      <td>19.90</td>\n",
       "      <td>Video_Games</td>\n",
       "      <td>19</td>\n",
       "      <td>armorines project swarm</td>\n",
       "    </tr>\n",
       "    <tr>\n",
       "      <th>3</th>\n",
       "      <td>9.93</td>\n",
       "      <td>Video_Games</td>\n",
       "      <td>19</td>\n",
       "      <td>largo winch commando sar</td>\n",
       "    </tr>\n",
       "    <tr>\n",
       "      <th>4</th>\n",
       "      <td>5.24</td>\n",
       "      <td>Video_Games</td>\n",
       "      <td>19</td>\n",
       "      <td>ch products pro pedals usb flight simulator pe...</td>\n",
       "    </tr>\n",
       "    <tr>\n",
       "      <th>...</th>\n",
       "      <td>...</td>\n",
       "      <td>...</td>\n",
       "      <td>...</td>\n",
       "      <td>...</td>\n",
       "    </tr>\n",
       "    <tr>\n",
       "      <th>449626</th>\n",
       "      <td>45.00</td>\n",
       "      <td>Beauty</td>\n",
       "      <td>3</td>\n",
       "      <td>labelm intensive repair shampoo conditioner ml</td>\n",
       "    </tr>\n",
       "    <tr>\n",
       "      <th>449627</th>\n",
       "      <td>14.99</td>\n",
       "      <td>Beauty</td>\n",
       "      <td>3</td>\n",
       "      <td>manic panic amplified semi permanent color blu...</td>\n",
       "    </tr>\n",
       "    <tr>\n",
       "      <th>449628</th>\n",
       "      <td>31.99</td>\n",
       "      <td>Beauty</td>\n",
       "      <td>3</td>\n",
       "      <td>cover n style pink midnight oversized unisex c...</td>\n",
       "    </tr>\n",
       "    <tr>\n",
       "      <th>449629</th>\n",
       "      <td>41.47</td>\n",
       "      <td>Beauty</td>\n",
       "      <td>3</td>\n",
       "      <td>walden farms spread pnut choc</td>\n",
       "    </tr>\n",
       "    <tr>\n",
       "      <th>449630</th>\n",
       "      <td>28.00</td>\n",
       "      <td>Beauty</td>\n",
       "      <td>3</td>\n",
       "      <td>rms beauty defining mascara ounce</td>\n",
       "    </tr>\n",
       "  </tbody>\n",
       "</table>\n",
       "<p>449631 rows × 4 columns</p>\n",
       "</div>"
      ],
      "text/plain": [
       "        price     main_cat  IntLabel  \\\n",
       "0       42.80  Video_Games        19   \n",
       "1        4.29  Video_Games        19   \n",
       "2       19.90  Video_Games        19   \n",
       "3        9.93  Video_Games        19   \n",
       "4        5.24  Video_Games        19   \n",
       "...       ...          ...       ...   \n",
       "449626  45.00       Beauty         3   \n",
       "449627  14.99       Beauty         3   \n",
       "449628  31.99       Beauty         3   \n",
       "449629  41.47       Beauty         3   \n",
       "449630  28.00       Beauty         3   \n",
       "\n",
       "                                          title_stopwords  \n",
       "0       dreamgear grx universal wired headset amplifie...  \n",
       "1                              jimmy johnsons vr football  \n",
       "2                                 armorines project swarm  \n",
       "3                                largo winch commando sar  \n",
       "4       ch products pro pedals usb flight simulator pe...  \n",
       "...                                                   ...  \n",
       "449626     labelm intensive repair shampoo conditioner ml  \n",
       "449627  manic panic amplified semi permanent color blu...  \n",
       "449628  cover n style pink midnight oversized unisex c...  \n",
       "449629                      walden farms spread pnut choc  \n",
       "449630                  rms beauty defining mascara ounce  \n",
       "\n",
       "[449631 rows x 4 columns]"
      ]
     },
     "execution_count": 23,
     "metadata": {},
     "output_type": "execute_result"
    }
   ],
   "source": [
    "title_vectors"
   ]
  },
  {
   "cell_type": "code",
   "execution_count": 24,
   "metadata": {},
   "outputs": [
    {
     "name": "stdout",
     "output_type": "stream",
     "text": [
      "labels_size 449631\n",
      "images_size:  449631\n"
     ]
    }
   ],
   "source": [
    "labelss = title_vectors['IntLabel']\n",
    "print(f'labels_size {labelss.size}')\n",
    "print(f'images_size:  {images.size}')"
   ]
  },
  {
   "cell_type": "code",
   "execution_count": 25,
   "metadata": {},
   "outputs": [],
   "source": [
    "def get_size(tensor):\n",
    "  return tensor.size()\n",
    "\n",
    "\n",
    "def array_for(x):\n",
    "    return np.array([get_size(xi) for xi in x])"
   ]
  },
  {
   "cell_type": "code",
   "execution_count": 26,
   "metadata": {},
   "outputs": [
    {
     "name": "stdout",
     "output_type": "stream",
     "text": [
      "labels_size 449631\n",
      "images_size:  449631\n"
     ]
    }
   ],
   "source": [
    "labels_pre = title_vectors['IntLabel'].size\n",
    "print(f'labels_size {labels_pre}')\n",
    "print(f'images_size:  {images.size}')"
   ]
  },
  {
   "cell_type": "code",
   "execution_count": 27,
   "metadata": {},
   "outputs": [],
   "source": [
    "sizes = array_for(images)\n",
    "sizes = sizes.astype('int64')"
   ]
  },
  {
   "cell_type": "code",
   "execution_count": 28,
   "metadata": {},
   "outputs": [],
   "source": [
    "def remove_images_sizes(min,dim):\n",
    "  global images\n",
    "  global title_vectors\n",
    "  global dropped_indexes\n",
    "  sizes = array_for(images)\n",
    "  rare_sizes = np.where(np.unique(sizes[:,dim], return_counts=True)[1] <= min)[0]\n",
    "  rare_sizes_values = np.unique(sizes[:,dim], return_counts=True)[0][rare_sizes]\n",
    "  rare_sizes_idx = np.where(np.isin(sizes[:,dim],rare_sizes_values) == True)[0]\n",
    "  images = np.delete(images,rare_sizes_idx)\n",
    "  dropped_indexes += rare_sizes_idx.tolist()\n",
    "  \n",
    " \n",
    "def specific_size_removed(size,dim):\n",
    "  global images\n",
    "  global dropped_indexes\n",
    "  sizes = array_for(images)\n",
    "  dropped_indexes += np.where(sizes[:,dim] == size)[0].tolist()\n",
    "\n",
    "  images = images[sizes[:,dim] != size ]\n"
   ]
  },
  {
   "cell_type": "code",
   "execution_count": 29,
   "metadata": {},
   "outputs": [
    {
     "name": "stdout",
     "output_type": "stream",
     "text": [
      "449631\n",
      "0\n",
      "449614\n",
      "17\n",
      "449340\n",
      "291\n",
      "449336\n",
      "295\n",
      "449169\n",
      "462\n"
     ]
    }
   ],
   "source": [
    "# Removing images sizes with less than 20 occurances in each dimension\n",
    "print(images.size)\n",
    "print(len(dropped_indexes))\n",
    "remove_images_sizes(20,1)\n",
    "print(images.size)\n",
    "print(len(dropped_indexes))\n",
    "remove_images_sizes(80,2)\n",
    "print(images.size)\n",
    "print(len(dropped_indexes))\n",
    "\n",
    "remove_images_sizes(50,1)\n",
    "print(images.size)\n",
    "print(len(dropped_indexes))\n",
    "\n",
    "\n",
    "#removing grayscale images\n",
    "specific_size_removed(1,0)\n",
    "print(images.size)\n",
    "print(len(dropped_indexes))\n",
    "#!!!!!!!!!!!!!!!!\n",
    "\n",
    "\n",
    "\n",
    "# updated_sizes = array_for(images)\n",
    "# dropped_indexes += np.where(updated_sizes[:,1] == 75)[0].tolist()\n",
    "# images = images[updated_sizes[:,1] != 75 ]\n"
   ]
  },
  {
   "cell_type": "code",
   "execution_count": 30,
   "metadata": {},
   "outputs": [],
   "source": [
    "title_vectors = title_vectors.drop(dropped_indexes)"
   ]
  },
  {
   "cell_type": "code",
   "execution_count": 31,
   "metadata": {},
   "outputs": [
    {
     "data": {
      "text/plain": [
       "(array([36, 40, 50, 65]), array([ 14324, 338845,  89590,   6410], dtype=int64))"
      ]
     },
     "execution_count": 31,
     "metadata": {},
     "output_type": "execute_result"
    }
   ],
   "source": [
    "sizes2 = array_for(images)\n",
    "np.unique(sizes2[:,1], return_counts=True)"
   ]
  },
  {
   "cell_type": "code",
   "execution_count": 32,
   "metadata": {},
   "outputs": [
    {
     "data": {
      "text/plain": [
       "(array(['[36 36]', '[40 40]', '[50 38]', '[65 50]'], dtype='<U7'),\n",
       " array([ 14324, 338845,  89590,   6410], dtype=int64))"
      ]
     },
     "execution_count": 32,
     "metadata": {},
     "output_type": "execute_result"
    }
   ],
   "source": [
    "## Next time filter for image size at the extraction stage\n",
    "b = sizes2[:,1:3]\n",
    "y = np.array([str(xx) for xx in b])\n",
    "np.unique(y, return_counts=True)"
   ]
  },
  {
   "cell_type": "code",
   "execution_count": null,
   "metadata": {},
   "outputs": [],
   "source": [
    "# 4 image tensors for the 4 different images sizes\n",
    "\n",
    "size_36_36 = images[sizes2[:,1] == 36]\n",
    "size_40_40 = images[sizes2[:,1] == 40]\n",
    "size_50_38 = images[sizes2[:,1] == 50]\n",
    "size_65_50 = images[sizes2[:,1] == 65]\n",
    "title_vectors_36_36 = title_vectors[sizes2[:,1] == 36]\n",
    "title_vectors_40_40 = title_vectors[sizes2[:,1] == 40]\n",
    "title_vectors_50_38 = title_vectors[sizes2[:,1] == 50]\n",
    "title_vectors_65_50 = title_vectors[sizes2[:,1] == 65]"
   ]
  },
  {
   "cell_type": "code",
   "execution_count": 117,
   "metadata": {},
   "outputs": [],
   "source": [
    "class NpEncoder(json.JSONEncoder):\n",
    "    def default(self, obj):\n",
    "        if isinstance(obj,torch.Tensor):\n",
    "            return obj.numpy().tolist()\n",
    "        if isinstance(obj, np.integer):\n",
    "            return int(obj)\n",
    "        if isinstance(obj, np.floating):\n",
    "            return float(obj)\n",
    "        if isinstance(obj, np.ndarray):\n",
    "            return obj.tolist()\n",
    "        return super(NpEncoder, self).default(obj)"
   ]
  },
  {
   "cell_type": "code",
   "execution_count": 118,
   "metadata": {},
   "outputs": [],
   "source": [
    "def dataset(images,title_vectors):\n",
    "\n",
    "\n",
    "  # # data = torch.zeros(3,images.size,images[0].size()[:,1])\n",
    "  data = []\n",
    "  for i,x in enumerate(images):\n",
    "    title_vectors['title_stopwords'].iloc[i]\n",
    "    inputs = [x, title_vectors['title_stopwords'].iloc[i], title_vectors['IntLabel'].iloc[i]]\n",
    "    data.append(inputs)\n",
    "    # except:\n",
    "    #   # print(f'img looks like: {x}\\n\\n\\n')\n",
    "    #   # print(f'size of image is: {x.size()}\\n\\n\\n\\n\\n')\n",
    "  with open(f\"JSON_data/data{images[0].size()[1]}.json\", 'w') as f:\n",
    "    json.dump(data,f,cls=NpEncoder)\n"
   ]
  },
  {
   "cell_type": "code",
   "execution_count": 124,
   "metadata": {},
   "outputs": [],
   "source": [
    "dataset(size_36_36,title_vectors_36_36)\n",
    "dataset(size_40_40,title_vectors_40_40)\n",
    "dataset(size_50_38,title_vectors_50_38)\n",
    "dataset(size_65_50,title_vectors_65_50)"
   ]
  },
  {
   "cell_type": "code",
   "execution_count": 120,
   "metadata": {},
   "outputs": [],
   "source": [
    "with open(f\"JSON_data/data36.json\", 'r') as f:\n",
    "  data = json.load(f)"
   ]
  },
  {
   "cell_type": "code",
   "execution_count": 123,
   "metadata": {},
   "outputs": [
    {
     "data": {
      "text/html": [
       "<div>\n",
       "<style scoped>\n",
       "    .dataframe tbody tr th:only-of-type {\n",
       "        vertical-align: middle;\n",
       "    }\n",
       "\n",
       "    .dataframe tbody tr th {\n",
       "        vertical-align: top;\n",
       "    }\n",
       "\n",
       "    .dataframe thead th {\n",
       "        text-align: right;\n",
       "    }\n",
       "</style>\n",
       "<table border=\"1\" class=\"dataframe\">\n",
       "  <thead>\n",
       "    <tr style=\"text-align: right;\">\n",
       "      <th></th>\n",
       "      <th>0</th>\n",
       "      <th>1</th>\n",
       "      <th>2</th>\n",
       "    </tr>\n",
       "  </thead>\n",
       "  <tbody>\n",
       "    <tr>\n",
       "      <th>0</th>\n",
       "      <td>[[[251, 251, 251, 251, 251, 252, 252, 252, 252...</td>\n",
       "      <td>tnp products full body plastic and aluminum sn...</td>\n",
       "      <td>19</td>\n",
       "    </tr>\n",
       "    <tr>\n",
       "      <th>1</th>\n",
       "      <td>[[[255, 255, 255, 255, 255, 255, 255, 255, 255...</td>\n",
       "      <td>gam pattern series decals vinyl sticker one co...</td>\n",
       "      <td>19</td>\n",
       "    </tr>\n",
       "    <tr>\n",
       "      <th>2</th>\n",
       "      <td>[[[255, 255, 255, 255, 255, 255, 255, 255, 255...</td>\n",
       "      <td>extremerate custom design chrome silver thumbs...</td>\n",
       "      <td>19</td>\n",
       "    </tr>\n",
       "    <tr>\n",
       "      <th>3</th>\n",
       "      <td>[[[255, 255, 255, 255, 255, 255, 255, 255, 255...</td>\n",
       "      <td>gam pattern series decals vinyl sticker one co...</td>\n",
       "      <td>19</td>\n",
       "    </tr>\n",
       "    <tr>\n",
       "      <th>4</th>\n",
       "      <td>[[[255, 255, 255, 255, 255, 255, 255, 255, 255...</td>\n",
       "      <td>gam pattern series decals vinyl sticker one co...</td>\n",
       "      <td>19</td>\n",
       "    </tr>\n",
       "    <tr>\n",
       "      <th>...</th>\n",
       "      <td>...</td>\n",
       "      <td>...</td>\n",
       "      <td>...</td>\n",
       "    </tr>\n",
       "    <tr>\n",
       "      <th>14319</th>\n",
       "      <td>[[[254, 254, 254, 254, 253, 254, 254, 251, 254...</td>\n",
       "      <td>signmission keep out gamer at work sign xbox p...</td>\n",
       "      <td>3</td>\n",
       "    </tr>\n",
       "    <tr>\n",
       "      <th>14320</th>\n",
       "      <td>[[[255, 255, 255, 255, 255, 255, 255, 254, 252...</td>\n",
       "      <td>donna premium collection extra firm mesh wrap</td>\n",
       "      <td>3</td>\n",
       "    </tr>\n",
       "    <tr>\n",
       "      <th>14321</th>\n",
       "      <td>[[[59, 53, 47, 43, 38, 30, 27, 30, 42, 49, 49,...</td>\n",
       "      <td>iphone caseautumnfallreg waterproof shockproof...</td>\n",
       "      <td>3</td>\n",
       "    </tr>\n",
       "    <tr>\n",
       "      <th>14322</th>\n",
       "      <td>[[[255, 255, 255, 255, 255, 255, 255, 255, 255...</td>\n",
       "      <td>alafen mulberry silk super smooth soft eye sle...</td>\n",
       "      <td>3</td>\n",
       "    </tr>\n",
       "    <tr>\n",
       "      <th>14323</th>\n",
       "      <td>[[[252, 252, 254, 255, 255, 255, 255, 255, 255...</td>\n",
       "      <td>edenkiss mixed drawstring organza jewelry pouc...</td>\n",
       "      <td>3</td>\n",
       "    </tr>\n",
       "  </tbody>\n",
       "</table>\n",
       "<p>14324 rows × 3 columns</p>\n",
       "</div>"
      ],
      "text/plain": [
       "                                                       0  \\\n",
       "0      [[[251, 251, 251, 251, 251, 252, 252, 252, 252...   \n",
       "1      [[[255, 255, 255, 255, 255, 255, 255, 255, 255...   \n",
       "2      [[[255, 255, 255, 255, 255, 255, 255, 255, 255...   \n",
       "3      [[[255, 255, 255, 255, 255, 255, 255, 255, 255...   \n",
       "4      [[[255, 255, 255, 255, 255, 255, 255, 255, 255...   \n",
       "...                                                  ...   \n",
       "14319  [[[254, 254, 254, 254, 253, 254, 254, 251, 254...   \n",
       "14320  [[[255, 255, 255, 255, 255, 255, 255, 254, 252...   \n",
       "14321  [[[59, 53, 47, 43, 38, 30, 27, 30, 42, 49, 49,...   \n",
       "14322  [[[255, 255, 255, 255, 255, 255, 255, 255, 255...   \n",
       "14323  [[[252, 252, 254, 255, 255, 255, 255, 255, 255...   \n",
       "\n",
       "                                                       1   2  \n",
       "0      tnp products full body plastic and aluminum sn...  19  \n",
       "1      gam pattern series decals vinyl sticker one co...  19  \n",
       "2      extremerate custom design chrome silver thumbs...  19  \n",
       "3      gam pattern series decals vinyl sticker one co...  19  \n",
       "4      gam pattern series decals vinyl sticker one co...  19  \n",
       "...                                                  ...  ..  \n",
       "14319  signmission keep out gamer at work sign xbox p...   3  \n",
       "14320      donna premium collection extra firm mesh wrap   3  \n",
       "14321  iphone caseautumnfallreg waterproof shockproof...   3  \n",
       "14322  alafen mulberry silk super smooth soft eye sle...   3  \n",
       "14323  edenkiss mixed drawstring organza jewelry pouc...   3  \n",
       "\n",
       "[14324 rows x 3 columns]"
      ]
     },
     "execution_count": 123,
     "metadata": {},
     "output_type": "execute_result"
    }
   ],
   "source": []
  },
  {
   "cell_type": "code",
   "execution_count": 16,
   "metadata": {},
   "outputs": [],
   "source": [
    "\n",
    "torch.save(size_36_36,'cleaned_images/images_36_36.pt')\n",
    "torch.save(size_40_40,'cleaned_images/images_40_40.pt')\n",
    "torch.save(size_50_38,'cleaned_images/images_50_38.pt')\n",
    "torch.save(size_65_50,'cleaned_images/images_65_50.pt')\n",
    "title_vectors_36_36.to_csv('cleaned_titles/labels_36_36.csv')\n",
    "title_vectors_40_40.to_csv('cleaned_titles/labels_40_40.csv')\n",
    "title_vectors_50_38.to_csv('cleaned_titles/labels_50_38.csv')\n",
    "title_vectors_65_50.to_csv('cleaned_titles/labels_65_50.csv')"
   ]
  },
  {
   "cell_type": "code",
   "execution_count": null,
   "metadata": {},
   "outputs": [
    {
     "data": {
      "text/plain": [
       "torch.Size([3, 299, 299])"
      ]
     },
     "execution_count": 29,
     "metadata": {},
     "output_type": "execute_result"
    }
   ],
   "source": []
  },
  {
   "cell_type": "code",
   "execution_count": null,
   "metadata": {},
   "outputs": [],
   "source": []
  }
 ],
 "metadata": {
  "kernelspec": {
   "display_name": "base",
   "language": "python",
   "name": "python3"
  },
  "language_info": {
   "codemirror_mode": {
    "name": "ipython",
    "version": 3
   },
   "file_extension": ".py",
   "mimetype": "text/x-python",
   "name": "python",
   "nbconvert_exporter": "python",
   "pygments_lexer": "ipython3",
   "version": "3.8.8 (default, Apr 13 2021, 15:08:03) [MSC v.1916 64 bit (AMD64)]"
  },
  "orig_nbformat": 4,
  "vscode": {
   "interpreter": {
    "hash": "0eb5d0a65b500759bcde1c4c1ad0551eaece71d5bef76353acf57400c52edb49"
   }
  }
 },
 "nbformat": 4,
 "nbformat_minor": 2
}
